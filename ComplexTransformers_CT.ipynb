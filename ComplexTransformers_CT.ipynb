{
  "nbformat": 4,
  "nbformat_minor": 0,
  "metadata": {
    "colab": {
      "private_outputs": true,
      "provenance": []
    },
    "kernelspec": {
      "name": "python3",
      "display_name": "Python 3"
    },
    "language_info": {
      "name": "python"
    }
  },
  "cells": [
    {
      "cell_type": "markdown",
      "source": [
        "# CT\n",
        "\n",
        "Clone the repository to look at the code and run lint, tests"
      ],
      "metadata": {
        "id": "JkzlNGptEV0w"
      }
    },
    {
      "cell_type": "markdown",
      "source": [],
      "metadata": {
        "id": "eqayz4uCMJX0"
      }
    },
    {
      "cell_type": "code",
      "execution_count": null,
      "metadata": {
        "id": "l02ck0TKEGX4"
      },
      "outputs": [],
      "source": [
        "!git clone https://github.com/evelynmitchell/CT"
      ]
    },
    {
      "cell_type": "markdown",
      "source": [
        "# Install for local dev in colab"
      ],
      "metadata": {
        "id": "LVaVt_hhMLa0"
      }
    },
    {
      "cell_type": "code",
      "source": [
        "!cd /content/CT && pip install -e .\n"
      ],
      "metadata": {
        "id": "4lVqC26eEeID"
      },
      "execution_count": null,
      "outputs": []
    },
    {
      "cell_type": "markdown",
      "source": [
        "# Linting\n",
        "\n",
        "Install and run pylint"
      ],
      "metadata": {
        "id": "vh_W64zzMPr3"
      }
    },
    {
      "cell_type": "code",
      "source": [
        "!pip install pylint\n",
        "!pylint CT/ct"
      ],
      "metadata": {
        "id": "E3e65cxHEmfM"
      },
      "execution_count": null,
      "outputs": []
    },
    {
      "cell_type": "markdown",
      "source": [
        "# To Install as shipped"
      ],
      "metadata": {
        "id": "QF3fybZRMBNk"
      }
    },
    {
      "cell_type": "code",
      "source": [
        "!pip install complex-attn"
      ],
      "metadata": {
        "id": "4yHTaonvERmj"
      },
      "execution_count": null,
      "outputs": []
    }
  ]
}